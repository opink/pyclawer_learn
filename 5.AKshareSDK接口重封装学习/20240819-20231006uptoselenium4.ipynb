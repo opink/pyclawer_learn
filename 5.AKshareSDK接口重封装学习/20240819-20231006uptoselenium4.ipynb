{
 "cells": [
  {
   "cell_type": "markdown",
   "metadata": {},
   "source": [
    "# 1. 2023年10月6日开始重构\n",
    "\n",
    "- 1.akshare有一个接口更新了名字\n",
    "- 2.券商研报的表头更新了\n",
    "- 3.通过萝卜投研爬取10年pe平均值做了线程池优化（12个workers让本来50分钟的爬取减少到5分钟）\n",
    "\n",
    "# 2024年7月3日更新券商研报的表头，其他都没变化\n",
    "# 2024年8月19日更新akshare=1.14.62 接口行业的表头"
   ]
  },
  {
   "cell_type": "code",
   "execution_count": 1,
   "metadata": {},
   "outputs": [
    {
     "data": {
      "application/vnd.jupyter.widget-view+json": {
       "model_id": "44e6e22081b44f1ca83722e656fd114b",
       "version_major": 2,
       "version_minor": 0
      },
      "text/plain": [
       "  0%|          | 0/6 [00:00<?, ?it/s]"
      ]
     },
     "metadata": {},
     "output_type": "display_data"
    },
    {
     "name": "stderr",
     "output_type": "stream",
     "text": [
      "d:\\miniforge3\\envs\\python310forclawer\\lib\\site-packages\\akshare\\stock_fundamental\\stock_profit_forecast_em.py:115: FutureWarning: A value is trying to be set on a copy of a DataFrame or Series through chained assignment using an inplace method.\n",
      "The behavior will change in pandas 3.0. This inplace method will never work because the intermediate object on which we are setting values always behaves as a copy.\n",
      "\n",
      "For example, when doing 'df[col].method(value, inplace=True)', try using 'df.method({col: value}, inplace=True)' or df[col] = df[col].method(value) instead, to perform the operation inplace on the original object.\n",
      "\n",
      "\n",
      "  big_df[\"机构投资评级(近六个月)-买入\"].fillna(0, inplace=True)\n",
      "d:\\miniforge3\\envs\\python310forclawer\\lib\\site-packages\\akshare\\stock_fundamental\\stock_profit_forecast_em.py:116: FutureWarning: A value is trying to be set on a copy of a DataFrame or Series through chained assignment using an inplace method.\n",
      "The behavior will change in pandas 3.0. This inplace method will never work because the intermediate object on which we are setting values always behaves as a copy.\n",
      "\n",
      "For example, when doing 'df[col].method(value, inplace=True)', try using 'df.method({col: value}, inplace=True)' or df[col] = df[col].method(value) instead, to perform the operation inplace on the original object.\n",
      "\n",
      "\n",
      "  big_df[\"机构投资评级(近六个月)-增持\"].fillna(0, inplace=True)\n",
      "d:\\miniforge3\\envs\\python310forclawer\\lib\\site-packages\\akshare\\stock_fundamental\\stock_profit_forecast_em.py:117: FutureWarning: A value is trying to be set on a copy of a DataFrame or Series through chained assignment using an inplace method.\n",
      "The behavior will change in pandas 3.0. This inplace method will never work because the intermediate object on which we are setting values always behaves as a copy.\n",
      "\n",
      "For example, when doing 'df[col].method(value, inplace=True)', try using 'df.method({col: value}, inplace=True)' or df[col] = df[col].method(value) instead, to perform the operation inplace on the original object.\n",
      "\n",
      "\n",
      "  big_df[\"机构投资评级(近六个月)-中性\"].fillna(0, inplace=True)\n",
      "d:\\miniforge3\\envs\\python310forclawer\\lib\\site-packages\\akshare\\stock_fundamental\\stock_profit_forecast_em.py:118: FutureWarning: A value is trying to be set on a copy of a DataFrame or Series through chained assignment using an inplace method.\n",
      "The behavior will change in pandas 3.0. This inplace method will never work because the intermediate object on which we are setting values always behaves as a copy.\n",
      "\n",
      "For example, when doing 'df[col].method(value, inplace=True)', try using 'df.method({col: value}, inplace=True)' or df[col] = df[col].method(value) instead, to perform the operation inplace on the original object.\n",
      "\n",
      "\n",
      "  big_df[\"机构投资评级(近六个月)-减持\"].fillna(0, inplace=True)\n",
      "d:\\miniforge3\\envs\\python310forclawer\\lib\\site-packages\\akshare\\stock_fundamental\\stock_profit_forecast_em.py:118: FutureWarning: Downcasting object dtype arrays on .fillna, .ffill, .bfill is deprecated and will change in a future version. Call result.infer_objects(copy=False) instead. To opt-in to the future behavior, set `pd.set_option('future.no_silent_downcasting', True)`\n",
      "  big_df[\"机构投资评级(近六个月)-减持\"].fillna(0, inplace=True)\n",
      "d:\\miniforge3\\envs\\python310forclawer\\lib\\site-packages\\akshare\\stock_fundamental\\stock_profit_forecast_em.py:119: FutureWarning: A value is trying to be set on a copy of a DataFrame or Series through chained assignment using an inplace method.\n",
      "The behavior will change in pandas 3.0. This inplace method will never work because the intermediate object on which we are setting values always behaves as a copy.\n",
      "\n",
      "For example, when doing 'df[col].method(value, inplace=True)', try using 'df.method({col: value}, inplace=True)' or df[col] = df[col].method(value) instead, to perform the operation inplace on the original object.\n",
      "\n",
      "\n",
      "  big_df[\"机构投资评级(近六个月)-卖出\"].fillna(0, inplace=True)\n",
      "d:\\miniforge3\\envs\\python310forclawer\\lib\\site-packages\\akshare\\stock_fundamental\\stock_profit_forecast_em.py:119: FutureWarning: Downcasting object dtype arrays on .fillna, .ffill, .bfill is deprecated and will change in a future version. Call result.infer_objects(copy=False) instead. To opt-in to the future behavior, set `pd.set_option('future.no_silent_downcasting', True)`\n",
      "  big_df[\"机构投资评级(近六个月)-卖出\"].fillna(0, inplace=True)\n"
     ]
    },
    {
     "data": {
      "text/html": [
       "<div>\n",
       "<style scoped>\n",
       "    .dataframe tbody tr th:only-of-type {\n",
       "        vertical-align: middle;\n",
       "    }\n",
       "\n",
       "    .dataframe tbody tr th {\n",
       "        vertical-align: top;\n",
       "    }\n",
       "\n",
       "    .dataframe thead th {\n",
       "        text-align: right;\n",
       "    }\n",
       "</style>\n",
       "<table border=\"1\" class=\"dataframe\">\n",
       "  <thead>\n",
       "    <tr style=\"text-align: right;\">\n",
       "      <th></th>\n",
       "      <th>序号</th>\n",
       "      <th>代码</th>\n",
       "      <th>名称</th>\n",
       "      <th>研报数</th>\n",
       "      <th>机构投资评级(近六个月)-买入</th>\n",
       "      <th>机构投资评级(近六个月)-增持</th>\n",
       "      <th>机构投资评级(近六个月)-中性</th>\n",
       "      <th>机构投资评级(近六个月)-减持</th>\n",
       "      <th>机构投资评级(近六个月)-卖出</th>\n",
       "      <th>2023预测每股收益</th>\n",
       "      <th>2024预测每股收益</th>\n",
       "      <th>2025预测每股收益</th>\n",
       "      <th>2026预测每股收益</th>\n",
       "    </tr>\n",
       "  </thead>\n",
       "  <tbody>\n",
       "    <tr>\n",
       "      <th>0</th>\n",
       "      <td>1</td>\n",
       "      <td>600519</td>\n",
       "      <td>贵州茅台</td>\n",
       "      <td>57</td>\n",
       "      <td>47.0</td>\n",
       "      <td>10.0</td>\n",
       "      <td>0.0</td>\n",
       "      <td>0</td>\n",
       "      <td>0</td>\n",
       "      <td>59.492280</td>\n",
       "      <td>69.271649</td>\n",
       "      <td>79.394947</td>\n",
       "      <td>90.274107</td>\n",
       "    </tr>\n",
       "    <tr>\n",
       "      <th>1</th>\n",
       "      <td>2</td>\n",
       "      <td>603605</td>\n",
       "      <td>珀莱雅</td>\n",
       "      <td>49</td>\n",
       "      <td>38.0</td>\n",
       "      <td>11.0</td>\n",
       "      <td>0.0</td>\n",
       "      <td>0</td>\n",
       "      <td>0</td>\n",
       "      <td>3.009063</td>\n",
       "      <td>3.853122</td>\n",
       "      <td>4.748061</td>\n",
       "      <td>5.756208</td>\n",
       "    </tr>\n",
       "    <tr>\n",
       "      <th>2</th>\n",
       "      <td>3</td>\n",
       "      <td>300750</td>\n",
       "      <td>宁德时代</td>\n",
       "      <td>48</td>\n",
       "      <td>37.0</td>\n",
       "      <td>11.0</td>\n",
       "      <td>0.0</td>\n",
       "      <td>0</td>\n",
       "      <td>0</td>\n",
       "      <td>10.030275</td>\n",
       "      <td>11.376106</td>\n",
       "      <td>13.566106</td>\n",
       "      <td>15.844267</td>\n",
       "    </tr>\n",
       "    <tr>\n",
       "      <th>3</th>\n",
       "      <td>4</td>\n",
       "      <td>600600</td>\n",
       "      <td>青岛啤酒</td>\n",
       "      <td>48</td>\n",
       "      <td>36.0</td>\n",
       "      <td>11.0</td>\n",
       "      <td>1.0</td>\n",
       "      <td>0</td>\n",
       "      <td>0</td>\n",
       "      <td>3.128472</td>\n",
       "      <td>3.688854</td>\n",
       "      <td>4.217771</td>\n",
       "      <td>4.732745</td>\n",
       "    </tr>\n",
       "    <tr>\n",
       "      <th>4</th>\n",
       "      <td>5</td>\n",
       "      <td>000858</td>\n",
       "      <td>五粮液</td>\n",
       "      <td>47</td>\n",
       "      <td>39.0</td>\n",
       "      <td>8.0</td>\n",
       "      <td>0.0</td>\n",
       "      <td>0</td>\n",
       "      <td>0</td>\n",
       "      <td>7.783008</td>\n",
       "      <td>8.740617</td>\n",
       "      <td>9.788426</td>\n",
       "      <td>10.950023</td>\n",
       "    </tr>\n",
       "  </tbody>\n",
       "</table>\n",
       "</div>"
      ],
      "text/plain": [
       "   序号      代码    名称  研报数  机构投资评级(近六个月)-买入  机构投资评级(近六个月)-增持  机构投资评级(近六个月)-中性  \\\n",
       "0   1  600519  贵州茅台   57             47.0             10.0              0.0   \n",
       "1   2  603605   珀莱雅   49             38.0             11.0              0.0   \n",
       "2   3  300750  宁德时代   48             37.0             11.0              0.0   \n",
       "3   4  600600  青岛啤酒   48             36.0             11.0              1.0   \n",
       "4   5  000858   五粮液   47             39.0              8.0              0.0   \n",
       "\n",
       "   机构投资评级(近六个月)-减持  机构投资评级(近六个月)-卖出  2023预测每股收益  2024预测每股收益  2025预测每股收益  \\\n",
       "0                0                0   59.492280   69.271649   79.394947   \n",
       "1                0                0    3.009063    3.853122    4.748061   \n",
       "2                0                0   10.030275   11.376106   13.566106   \n",
       "3                0                0    3.128472    3.688854    4.217771   \n",
       "4                0                0    7.783008    8.740617    9.788426   \n",
       "\n",
       "   2026预测每股收益  \n",
       "0   90.274107  \n",
       "1    5.756208  \n",
       "2   15.844267  \n",
       "3    4.732745  \n",
       "4   10.950023  "
      ]
     },
     "execution_count": 1,
     "metadata": {},
     "output_type": "execute_result"
    }
   ],
   "source": [
    "import akshare as ak\n",
    "# (base)\n",
    "ak.stock_profit_forecast_em().head(5)"
   ]
  },
  {
   "cell_type": "code",
   "execution_count": 1,
   "metadata": {},
   "outputs": [],
   "source": [
    "#!/usr/bin/env python=3.10\n",
    "# coding=utf-8\n",
    "# author: KarlQu\n",
    "# Version: 1.1\n",
    "# Date: 2023-10-6\n",
    "# webdriver=Firefox2023.04\n",
    "# pip install akshare -i http://mirrors.aliyun.com/pypi/simple/ --trusted-host=mirrors.aliyun.com  --upgrade\n",
    "#  mamba install -c conda-forge selenium=4.13.0\n",
    "# selenium 4 与 selenium 3 对对象选择语法做了修改\n",
    "#  mamba install -c conda-forge jupyter\n",
    "# akshare.__version__ = '1.11.23 '\n",
    "# !最重要的是g和g的可达性\n",
    "# akshare更新非常频繁\n",
    "# pip install akshare --upgrade -i https://pypi.org/simple\n",
    "\n",
    "# 是否需要更新10年pe均值和券商研报, pe_ave_10(ifupdate = False), 输出位置 f'./backups/{DATE}/nets_end.xlsx'\n",
    "\n",
    "import numpy as np\n",
    "import pandas as pd\n",
    "import requests\n",
    "import akshare as ak\n",
    "import tqdm\n",
    "import time\n",
    "import datetime as dt\n",
    "import os\n",
    "import calendar\n",
    "from selenium import webdriver\n",
    "# from selenium.webdriver.support.wait import WebDriverWait\n",
    "# from selenium.webdriver.support import expected_conditions as EC\n",
    "# from selenium.webdriver.common.by import By\n",
    "from concurrent import futures\n",
    "\n",
    "DATE = dt.date.today() # str(DATE) ; dt.date.today().year\n",
    "\n",
    "UA = {\n",
    "    'User-Agent':\n",
    "    'Mozilla/5.0 (Windows NT 10.0; Win64; x64; rv:105.0) Gecko/20100101 Firefox/105.0'\n",
    "}\n",
    "\n",
    "def open_file(file_name:str, upperdir = 'backups'):\n",
    "    \"\"\"创建文件夹\n",
    "    Parameters\n",
    "    ----------\n",
    "    file_name : 日期字符串\n",
    "    upperdir : 上级目录名\n",
    "    \"\"\"\n",
    "    if os.path.exists(f'./{upperdir}/' + file_name):\n",
    "        pass\n",
    "    else:\n",
    "        os.mkdir(f'./{upperdir}/' + file_name)\n",
    "\n",
    "def update_g(ifupdate = False) -> pd.DataFrame:\n",
    "    \"\"\"akshare的个股研报接口\n",
    "\n",
    "    Parameters\n",
    "    ----------\n",
    "    ifupdate : bool, optional\n",
    "        _description_, by default False\n",
    "\n",
    "    Returns\n",
    "    -------\n",
    "    pd.DataFrame\n",
    "        columns = ['代码','名称','研报数','2021预测每股收益','2022预测每股收益','2023预测每股收益','2024预测每股收益']\n",
    "        \n",
    "        共4年的每股收益,2023年更新为'2022预测每股收益','2023预测每股收益','2024预测每股收益','2025预测每股收益'\n",
    "\n",
    "    \"\"\"\n",
    "    if ifupdate:\n",
    "        open_file(str(DATE), upperdir = 'backups')\n",
    "        profit_forecast = ak.stock_profit_forecast_em().iloc[:,[1,2,3,9,10,11,12]].drop_duplicates()\n",
    "        profit_forecast.to_excel(f'./backups/{DATE}/profit_forecast.xlsx',index=False)\n",
    "\n",
    "    else:\n",
    "        latest_file = list(os.walk('./backups/'))[0][1][-1]\n",
    "        profit_forecast = pd.read_excel(f'./backups/{latest_file}/profit_forecast.xlsx',dtype={'代码':'str'})\n",
    "    # 调整g,收益>0、每期g>10%、每期g可信值35%。 得到调整的几何均数g\n",
    "    profit_forecast = profit_forecast[(profit_forecast['2023预测每股收益']>0) & (profit_forecast['2024预测每股收益']>0 )& ( profit_forecast['2025预测每股收益']>0)]\n",
    "    profit_forecast\n",
    "    profit_forecast1 = profit_forecast.iloc[:,[3,4,5,6]].pct_change(axis=1)[['2024预测每股收益','2025预测每股收益',\t'2026预测每股收益']]\n",
    "    profit_forecast1\n",
    "    profit_forecast2 = profit_forecast1[(profit_forecast1['2024预测每股收益']>0.1) & (profit_forecast1['2025预测每股收益']>0.1 )& ( profit_forecast1['2026预测每股收益']>0.1)]\n",
    "    profit_forecast2\n",
    "    profit_forecast2[profit_forecast2>0.35] = 0.35\n",
    "    profit_forecast3 = profit_forecast2 + 1\n",
    "    g_scaled = ((profit_forecast3['2024预测每股收益']*profit_forecast3['2025预测每股收益']*profit_forecast3['2026预测每股收益'])**(1/3)-1)\n",
    "    g_scaled.name = 'g'\n",
    "    g = pd.concat([g_scaled,profit_forecast],axis=1,join='inner')[['代码','名称','g','研报数']].reset_index(drop=True)\n",
    "    return g\n",
    "\n",
    "\n",
    "def ten_year_ago(date: dt.date = DATE) -> str:\n",
    "        \"\"\"10年前日期，月底对应月底\n",
    "        Parameters\n",
    "        ----------\n",
    "        date : datetime.date\n",
    "        Returns\n",
    "        -------\n",
    "        str\n",
    "        \"\"\"\n",
    "        year = date.year - 10\n",
    "        day = min(date.day, calendar.monthrange(year, date.month)[1])\n",
    "        dt = date.replace(year=year, month=date.month, day=day)\n",
    "        # print(dt)\n",
    "        bigen_date = str(dt).replace('-','')\n",
    "        return bigen_date\n",
    "\n",
    "def pe_ave_10(date:str = str(DATE), ifupdate = False):\n",
    "    \"\"\"获取or更新10年pe均值和券商研报的预期每股收益\n",
    "\n",
    "    Parameters\n",
    "    ----------\n",
    "    date : str, optional\n",
    "        _description_, by default str(DATE)\n",
    "    ifupdate : bool, optional\n",
    "        _description_, by default False\n",
    "    \"\"\"\n",
    "    if ifupdate:\n",
    "        g = update_g(ifupdate=ifupdate)\n",
    "        stock_ids = g.代码.to_list() # 每次爬pe历史均值的时候都更新一下券商研报\n",
    "        print('代码前五个')\n",
    "        print(stock_ids[0:5])\n",
    "        # 1. selenium登录获取cookies\n",
    "        denglu_link = 'https://robo.datayes.com/v2/landing/peband'\n",
    "        cruser = webdriver.Firefox()\n",
    "        cruser.get(denglu_link)\n",
    "        input(\"扫码登录后按回车键\")\n",
    "        # WebDriverWait(cruser,60).until(EC.presence_of_all_elements_located((By.ID, 'app')))\n",
    "        cookies = {x['name']:x['value'] for x in cruser.get_cookies()}\n",
    "        print(cookies)\n",
    "        end_date = date.replace('-','')\n",
    "        begin_date = ten_year_ago()\n",
    "        ave_pettm = []\n",
    "        executor = futures.ThreadPoolExecutor(max_workers=12)\n",
    "        fs = []\n",
    "        total_tasks = len(stock_ids)\n",
    "        with tqdm.tqdm(total=total_tasks) as pbar:\n",
    "            for ids in stock_ids:\n",
    "                def get_ids_peave(ids, begin_date, end_date, cookies, UA, ave_pettm):\n",
    "                    try:\n",
    "                        url = f'https://gw.datayes.com/rrp_adventure/web/stockModel/band/{ids}' # 2022old\n",
    "                        response = requests.get(url=url,\n",
    "                                                params= {\n",
    "                                                    'apiType': '4',\n",
    "                                                    'category': '1',    # 1为PE，2为PB\n",
    "                                                    'subCategory': '1',\n",
    "                                                    'flag': '-1',\n",
    "                                                    'beginDate': f'{begin_date}',\n",
    "                                                    'endDate': f'{end_date}'\n",
    "                                                },\n",
    "                                                cookies=cookies,\n",
    "                                                headers=UA)\n",
    "                        ave_pettm.append([ids, response.json()['data']['mean']])\n",
    "                        pbar.update(1) # 更新tqdm进度条用\n",
    "                        time.sleep(np.random.rand()) # 1536/1536 [33:05<00:00,  1.29s/it]\n",
    "                        # print(f'正常{response.status_code} , code: {ids}')\n",
    "                    except:\n",
    "                        print(f'异常{response.status_code} , code: {ids}')\n",
    "                        pass\n",
    "\n",
    "                f= executor.submit(get_ids_peave, ids, begin_date, end_date, cookies, UA, ave_pettm)\n",
    "                fs.append(f)\n",
    "            futures.wait(fs)\n",
    "        cruser.quit()\n",
    "        # 3. 本地保存\n",
    "        pe_ave = pd.DataFrame(ave_pettm, columns=['code','ave_pettm'])\n",
    "        open_file(str(DATE), upperdir = 'backups')\n",
    "        pe_ave.to_excel(f'./backups/{DATE}/avepettm_backup.xlsx',index=False)\n",
    "        latest_file = DATE\n",
    "    else:\n",
    "        latest_file = list(os.walk('./backups/'))[0][1][-1]\n",
    "        print(f'研报和10年期pe平均值的最近一次更新时间为 {latest_file}')\n",
    "        g = update_g(ifupdate=ifupdate)\n",
    "        pe_ave = pd.read_excel(f'./backups/{latest_file}/avepettm_backup.xlsx',dtype={'code':'str'})\n",
    "    nets = pd.merge(g.rename(columns={'代码':'code'}) , pe_ave , on='code',how='left')\n",
    "    nets['peg'] = (nets.ave_pettm / (100*nets.g))\n",
    "    nets1 = nets[(nets['peg']<1.2)]\n",
    "    # (nets['peg']<1.2).sum()\n",
    "    # 2. 得到筛选后的股票代码，后续可以爬取pettm和dvttm了\n",
    "    stock_ids_selected = nets1.code.to_list()\n",
    "    print('DEBUG:print 代码前五')\n",
    "    print(stock_ids_selected[0:5])\n",
    "    pe_ttm = []\n",
    "    for ids in tqdm.tqdm(stock_ids_selected):\n",
    "        try:\n",
    "            rrr = ak.stock_a_indicator_lg(symbol=f'{ids}').iloc[-1,[0,2,7]] # pettm and dvttm 接口\n",
    "            # print(f\"rrr {rrr}\")\n",
    "            rrr['industry'] = ak.stock_individual_info_em(symbol=f\"{ids}\").loc[6].value # 行业接口\n",
    "            # print(f\"rrr with industry {rrr}\")\n",
    "            rrr.name = ids\n",
    "            pe_ttm.append(rrr)\n",
    "        except:\n",
    "            print(f'{ids} 查无!')\n",
    "        continue\n",
    "\n",
    "    pe_and_dv = pd.concat(pe_ttm,axis=1).T\n",
    "    pe_and_dv_backup = pe_and_dv.reset_index(drop=False)\n",
    "    pe_and_dv_backup = pe_and_dv_backup.rename(columns={'index':'code'}) \n",
    "    open_file(str(DATE), upperdir = f'backups/{latest_file}')\n",
    "    pe_and_dv_backup.to_excel(f'./backups/{latest_file}/{DATE}/pe_and_dv.xlsx',index=False)\n",
    "    # pe_ttm = pd.read_excel(f'./backups/{latest_file}/{DATE}/pe_and_dv.xlsx',dtype={'code':'str'})\n",
    "    nets2 = pd.merge(nets1,pe_and_dv_backup,on='code',how='left')\n",
    "    nets3 = nets2[nets2.pe_ttm<nets2.ave_pettm]\n",
    "    nets3['peg'] = (nets3.pe_ttm / (100*nets3.g))\n",
    "    nets3['exp_reward_yearly'] = 100*((nets3.ave_pettm/nets3.pe_ttm)**(1/3)*(1+nets3.g)-1)\n",
    "    nets_end = nets3[nets3.exp_reward_yearly>35].drop_duplicates()\n",
    "    nets_end.to_excel(f'./backups/{latest_file}/{DATE}/nets_end.xlsx',index=False)   \n",
    "    print('done! open nets_end.xlsx')"
   ]
  },
  {
   "cell_type": "markdown",
   "metadata": {},
   "source": [
    "## 行业接口的表头由[2]到[6]"
   ]
  },
  {
   "cell_type": "code",
   "execution_count": 2,
   "metadata": {},
   "outputs": [
    {
     "data": {
      "text/plain": [
       "'酿酒行业'"
      ]
     },
     "execution_count": 2,
     "metadata": {},
     "output_type": "execute_result"
    }
   ],
   "source": [
    "ak.stock_individual_info_em(symbol=f\"603198\").loc[6].value"
   ]
  },
  {
   "cell_type": "markdown",
   "metadata": {},
   "source": [
    "## legu个股数据容易错\n",
    "> 1.14.61的错误是表格里面数据有null\n",
    "> \n",
    "> 1.14.62把null都更新为None了就好了"
   ]
  },
  {
   "cell_type": "code",
   "execution_count": 3,
   "metadata": {},
   "outputs": [
    {
     "name": "stdout",
     "output_type": "stream",
     "text": [
      "     trade_date       pe   pe_ttm      pb      ps  ps_ttm dv_ratio  dv_ttm  \\\n",
      "0      20240819  18.1064  15.9164  4.7765  6.1642  5.6264   2.1244  2.5106   \n",
      "1      20240816  17.7357   16.225  4.9426   6.038  5.6919   2.1688  2.5631   \n",
      "2      20240815  17.5749  16.0779  4.8978  5.9833  5.6403   2.1886  2.5865   \n",
      "3      20240814  17.5189  16.0267  4.8822  5.9642  5.6223   2.1956  2.5948   \n",
      "4      20240813  17.9385  16.4106  4.9991  6.1071   5.757   2.1442  2.5341   \n",
      "...         ...      ...      ...     ...     ...     ...      ...     ...   \n",
      "2241   20150603  40.9079  40.9079  5.4597  6.7267  6.7267     None    None   \n",
      "2242   20150602   37.192   37.192  4.9638  6.1157  6.1157     None    None   \n",
      "2243   20150601  33.8049  33.8049  4.5117  5.5587  5.5587     None    None   \n",
      "2244   20150529  30.7302  30.7302  4.1014  5.0531  5.0531     None    None   \n",
      "2245   20150528  27.9351  27.9351  3.7283  4.5935  4.5935     None    None   \n",
      "\n",
      "       total_mv  \n",
      "0     4142400.0  \n",
      "1     4057600.0  \n",
      "2     4020800.0  \n",
      "3     4008000.0  \n",
      "4     4104000.0  \n",
      "...         ...  \n",
      "2241  1990400.0  \n",
      "2242  1809600.0  \n",
      "2243  1644800.0  \n",
      "2244  1495200.0  \n",
      "2245  1359200.0  \n",
      "\n",
      "[2246 rows x 9 columns]\n"
     ]
    }
   ],
   "source": [
    "from datetime import datetime\n",
    "from hashlib import md5\n",
    "\n",
    "import pandas as pd\n",
    "import requests\n",
    "from bs4 import BeautifulSoup\n",
    "\n",
    "from akshare.utils.cons import headers\n",
    "\n",
    "def get_cookie_csrf(url: str = \"\") -> dict:\n",
    "    \"\"\"\n",
    "    乐咕乐股-主板市盈率\n",
    "    https://legulegu.com/stockdata/shanghaiPE\n",
    "    :return: 指定市场的市盈率数据\n",
    "    :rtype: pandas.DataFrame\n",
    "    \"\"\"\n",
    "    r = requests.get(url, headers=headers)\n",
    "    soup = BeautifulSoup(r.text, features=\"lxml\")\n",
    "    csrf_tag = soup.find(name=\"meta\", attrs={\"name\": \"_csrf\"})\n",
    "    csrf_token = csrf_tag.attrs[\"content\"]\n",
    "    headers.update({\"X-CSRF-Token\": csrf_token})\n",
    "    return {\"cookies\": r.cookies, \"headers\": headers}\n",
    "\n",
    "\n",
    "def get_token_lg() -> str:\n",
    "    \"\"\"\n",
    "    生成乐咕的 token\n",
    "    https://legulegu.com/s/002488\n",
    "    :return: token\n",
    "    :rtype: str\n",
    "    \"\"\"\n",
    "    current_date_str = datetime.now().date().isoformat()\n",
    "    obj = md5()\n",
    "    obj.update(current_date_str.encode(\"utf-8\"))\n",
    "    token = obj.hexdigest()\n",
    "    return token\n",
    "\n",
    "symbol = \"603198\"\n",
    "url = \"https://legulegu.com/api/s/base-info/\"\n",
    "token = get_token_lg()\n",
    "params = {\"token\": token, \"id\": symbol}\n",
    "r = requests.post(\n",
    "    url,\n",
    "    params=params,\n",
    "    **get_cookie_csrf(url=\"https://legulegu.com/\"),\n",
    ")\n",
    "temp_json = r.json()\n",
    "temp_df = pd.DataFrame(\n",
    "    temp_json[\"data\"][\"items\"],\n",
    "    columns=temp_json[\"data\"][\"fields\"],\n",
    ")\n",
    "print(temp_df)\n",
    "temp_df[\"trade_date\"] = pd.to_datetime(temp_df[\"trade_date\"]).dt.date\n",
    "temp_df[temp_df.columns[1:]] = temp_df[temp_df.columns[1:]].astype(float)\n",
    "temp_df.sort_values(by=[\"trade_date\"], inplace=True, ignore_index=True)\n",
    "if len(set(temp_df[\"trade_date\"])) <= 0:\n",
    "    raise ValueError(\"数据获取失败, 请检查是否输入正确的股票代码\")"
   ]
  },
  {
   "cell_type": "code",
   "execution_count": 4,
   "metadata": {},
   "outputs": [
    {
     "name": "stdout",
     "output_type": "stream",
     "text": [
      "研报和10年期pe平均值的最近一次更新时间为 2024-08-18\n"
     ]
    },
    {
     "name": "stderr",
     "output_type": "stream",
     "text": [
      "C:\\Users\\Administrator\\AppData\\Local\\Temp\\ipykernel_11028\\1786775755.py:79: FutureWarning: The default fill_method='pad' in DataFrame.pct_change is deprecated and will be removed in a future version. Either fill in any non-leading NA values prior to calling pct_change or specify 'fill_method=None' to not fill NA values.\n",
      "  profit_forecast1 = profit_forecast.iloc[:,[3,4,5,6]].pct_change(axis=1)[['2024预测每股收益','2025预测每股收益',\t'2026预测每股收益']]\n",
      "C:\\Users\\Administrator\\AppData\\Local\\Temp\\ipykernel_11028\\1786775755.py:83: SettingWithCopyWarning: \n",
      "A value is trying to be set on a copy of a slice from a DataFrame.\n",
      "Try using .loc[row_indexer,col_indexer] = value instead\n",
      "\n",
      "See the caveats in the documentation: https://pandas.pydata.org/pandas-docs/stable/user_guide/indexing.html#returning-a-view-versus-a-copy\n",
      "  profit_forecast2[profit_forecast2>0.35] = 0.35\n",
      "C:\\Users\\Administrator\\AppData\\Local\\Temp\\ipykernel_11028\\1786775755.py:83: SettingWithCopyWarning: \n",
      "A value is trying to be set on a copy of a slice from a DataFrame\n",
      "\n",
      "See the caveats in the documentation: https://pandas.pydata.org/pandas-docs/stable/user_guide/indexing.html#returning-a-view-versus-a-copy\n",
      "  profit_forecast2[profit_forecast2>0.35] = 0.35\n"
     ]
    },
    {
     "name": "stdout",
     "output_type": "stream",
     "text": [
      "DEBUG:print 代码前五\n",
      "['600426', '603198', '601633', '002648', '002078']\n"
     ]
    },
    {
     "name": "stderr",
     "output_type": "stream",
     "text": [
      " 51%|█████     | 200/392 [06:32<01:49,  1.75it/s]"
     ]
    },
    {
     "name": "stdout",
     "output_type": "stream",
     "text": [
      "000059 查无!\n"
     ]
    },
    {
     "name": "stderr",
     "output_type": "stream",
     "text": [
      " 52%|█████▏    | 202/392 [06:33<01:23,  2.28it/s]"
     ]
    },
    {
     "name": "stdout",
     "output_type": "stream",
     "text": [
      "834062 查无!\n"
     ]
    },
    {
     "name": "stderr",
     "output_type": "stream",
     "text": [
      " 52%|█████▏    | 203/392 [06:33<01:11,  2.63it/s]"
     ]
    },
    {
     "name": "stdout",
     "output_type": "stream",
     "text": [
      "838971 查无!\n"
     ]
    },
    {
     "name": "stderr",
     "output_type": "stream",
     "text": [
      " 52%|█████▏    | 204/392 [06:33<01:04,  2.91it/s]"
     ]
    },
    {
     "name": "stdout",
     "output_type": "stream",
     "text": [
      "605138 查无!\n"
     ]
    },
    {
     "name": "stderr",
     "output_type": "stream",
     "text": [
      " 53%|█████▎    | 206/392 [06:34<01:10,  2.63it/s]"
     ]
    },
    {
     "name": "stdout",
     "output_type": "stream",
     "text": [
      "605196 查无!\n"
     ]
    },
    {
     "name": "stderr",
     "output_type": "stream",
     "text": [
      " 54%|█████▍    | 211/392 [06:38<01:37,  1.86it/s]"
     ]
    },
    {
     "name": "stdout",
     "output_type": "stream",
     "text": [
      "301003 查无!\n"
     ]
    },
    {
     "name": "stderr",
     "output_type": "stream",
     "text": [
      " 54%|█████▍    | 212/392 [06:38<01:21,  2.22it/s]"
     ]
    },
    {
     "name": "stdout",
     "output_type": "stream",
     "text": [
      "002042 查无!\n"
     ]
    },
    {
     "name": "stderr",
     "output_type": "stream",
     "text": [
      " 68%|██████▊   | 266/392 [07:48<01:06,  1.90it/s]"
     ]
    },
    {
     "name": "stdout",
     "output_type": "stream",
     "text": [
      "002540 查无!\n"
     ]
    },
    {
     "name": "stderr",
     "output_type": "stream",
     "text": [
      " 68%|██████▊   | 267/392 [07:48<00:55,  2.26it/s]"
     ]
    },
    {
     "name": "stdout",
     "output_type": "stream",
     "text": [
      "002150 查无!\n"
     ]
    },
    {
     "name": "stderr",
     "output_type": "stream",
     "text": [
      " 69%|██████▊   | 269/392 [07:49<00:47,  2.61it/s]"
     ]
    },
    {
     "name": "stdout",
     "output_type": "stream",
     "text": [
      "688722 查无!\n"
     ]
    },
    {
     "name": "stderr",
     "output_type": "stream",
     "text": [
      " 69%|██████▉   | 270/392 [07:49<00:42,  2.90it/s]"
     ]
    },
    {
     "name": "stdout",
     "output_type": "stream",
     "text": [
      "603327 查无!\n"
     ]
    },
    {
     "name": "stderr",
     "output_type": "stream",
     "text": [
      " 69%|██████▉   | 272/392 [07:50<00:39,  3.00it/s]"
     ]
    },
    {
     "name": "stdout",
     "output_type": "stream",
     "text": [
      "838163 查无!\n"
     ]
    },
    {
     "name": "stderr",
     "output_type": "stream",
     "text": [
      " 70%|██████▉   | 273/392 [07:50<00:36,  3.24it/s]"
     ]
    },
    {
     "name": "stdout",
     "output_type": "stream",
     "text": [
      "603112 查无!\n"
     ]
    },
    {
     "name": "stderr",
     "output_type": "stream",
     "text": [
      " 70%|██████▉   | 274/392 [07:50<00:34,  3.46it/s]"
     ]
    },
    {
     "name": "stdout",
     "output_type": "stream",
     "text": [
      "831087 查无!\n"
     ]
    },
    {
     "name": "stderr",
     "output_type": "stream",
     "text": [
      " 88%|████████▊ | 346/392 [10:07<00:27,  1.69it/s]"
     ]
    },
    {
     "name": "stdout",
     "output_type": "stream",
     "text": [
      "832089 查无!\n"
     ]
    },
    {
     "name": "stderr",
     "output_type": "stream",
     "text": [
      " 89%|████████▊ | 347/392 [10:07<00:21,  2.05it/s]"
     ]
    },
    {
     "name": "stdout",
     "output_type": "stream",
     "text": [
      "002852 查无!\n"
     ]
    },
    {
     "name": "stderr",
     "output_type": "stream",
     "text": [
      " 89%|████████▉ | 349/392 [10:08<00:18,  2.26it/s]"
     ]
    },
    {
     "name": "stdout",
     "output_type": "stream",
     "text": [
      "836826 查无!\n"
     ]
    },
    {
     "name": "stderr",
     "output_type": "stream",
     "text": [
      " 96%|█████████▌| 375/392 [10:45<00:08,  1.91it/s]"
     ]
    },
    {
     "name": "stdout",
     "output_type": "stream",
     "text": [
      "301459 查无!\n"
     ]
    },
    {
     "name": "stderr",
     "output_type": "stream",
     "text": [
      " 96%|█████████▌| 376/392 [10:45<00:07,  2.27it/s]"
     ]
    },
    {
     "name": "stdout",
     "output_type": "stream",
     "text": [
      "603823 查无!\n"
     ]
    },
    {
     "name": "stderr",
     "output_type": "stream",
     "text": [
      " 96%|█████████▌| 377/392 [10:45<00:05,  2.59it/s]"
     ]
    },
    {
     "name": "stdout",
     "output_type": "stream",
     "text": [
      "300951 查无!\n"
     ]
    },
    {
     "name": "stderr",
     "output_type": "stream",
     "text": [
      " 98%|█████████▊| 383/392 [10:50<00:04,  1.87it/s]"
     ]
    },
    {
     "name": "stdout",
     "output_type": "stream",
     "text": [
      "603567 查无!\n"
     ]
    },
    {
     "name": "stderr",
     "output_type": "stream",
     "text": [
      " 98%|█████████▊| 385/392 [10:51<00:03,  2.33it/s]"
     ]
    },
    {
     "name": "stdout",
     "output_type": "stream",
     "text": [
      "000685 查无!\n"
     ]
    },
    {
     "name": "stderr",
     "output_type": "stream",
     "text": [
      " 98%|█████████▊| 386/392 [10:51<00:02,  2.58it/s]"
     ]
    },
    {
     "name": "stdout",
     "output_type": "stream",
     "text": [
      "836699 查无!\n"
     ]
    },
    {
     "name": "stderr",
     "output_type": "stream",
     "text": [
      " 99%|█████████▉| 388/392 [10:52<00:01,  2.68it/s]"
     ]
    },
    {
     "name": "stdout",
     "output_type": "stream",
     "text": [
      "001387 查无!\n"
     ]
    },
    {
     "name": "stderr",
     "output_type": "stream",
     "text": [
      " 99%|█████████▉| 389/392 [10:52<00:01,  2.98it/s]"
     ]
    },
    {
     "name": "stdout",
     "output_type": "stream",
     "text": [
      "600469 查无!\n"
     ]
    },
    {
     "name": "stderr",
     "output_type": "stream",
     "text": [
      "100%|██████████| 392/392 [10:56<00:00,  1.67s/it]"
     ]
    },
    {
     "name": "stdout",
     "output_type": "stream",
     "text": [
      "done! open nets_end.xlsx\n"
     ]
    },
    {
     "name": "stderr",
     "output_type": "stream",
     "text": [
      "\n",
      "C:\\Users\\Administrator\\AppData\\Local\\Temp\\ipykernel_11028\\1786775755.py:203: SettingWithCopyWarning: \n",
      "A value is trying to be set on a copy of a slice from a DataFrame.\n",
      "Try using .loc[row_indexer,col_indexer] = value instead\n",
      "\n",
      "See the caveats in the documentation: https://pandas.pydata.org/pandas-docs/stable/user_guide/indexing.html#returning-a-view-versus-a-copy\n",
      "  nets3['peg'] = (nets3.pe_ttm / (100*nets3.g))\n",
      "C:\\Users\\Administrator\\AppData\\Local\\Temp\\ipykernel_11028\\1786775755.py:204: SettingWithCopyWarning: \n",
      "A value is trying to be set on a copy of a slice from a DataFrame.\n",
      "Try using .loc[row_indexer,col_indexer] = value instead\n",
      "\n",
      "See the caveats in the documentation: https://pandas.pydata.org/pandas-docs/stable/user_guide/indexing.html#returning-a-view-versus-a-copy\n",
      "  nets3['exp_reward_yearly'] = 100*((nets3.ave_pettm/nets3.pe_ttm)**(1/3)*(1+nets3.g)-1)\n"
     ]
    }
   ],
   "source": [
    "# pe_ave_10(ifupdate=True)\n",
    "pe_ave_10(ifupdate=False)"
   ]
  },
  {
   "cell_type": "markdown",
   "metadata": {},
   "source": [
    "# 后记\n",
    "## 1.end 使用结果来选股\n",
    "> 2022-10-14选的股，到现在(2024.7.3)看都有了35%的收益\n",
    "\n",
    "**net_end.xlsx**\n",
    "\n",
    "- 1 首先用peg和pe_ttm做降序排序\n",
    "- 2 看pe_ttm与10年平均pe的距离\n",
    "- 3 优先选dv_ttm（股息率）高于3.4的\n",
    "- 4 对比g（券商研报）和pe_ttm看能不能支撑pe的回报率"
   ]
  },
  {
   "cell_type": "markdown",
   "metadata": {},
   "source": [
    "# 2. AkShare的legulegu.com/robots.txt协议对爬虫没做限制,但是！？\n",
    "尝试也改造成线程池加速\n",
    "> 被封ip了。。。"
   ]
  },
  {
   "cell_type": "code",
   "execution_count": 3,
   "metadata": {},
   "outputs": [
    {
     "data": {
      "text/plain": [
       "[('./backups/', ['2022-10-16', '2023-10-06'], []),\n",
       " ('./backups/2022-10-16',\n",
       "  [],\n",
       "  ['avepettm_backup.xlsx',\n",
       "   'nets_end.xlsx',\n",
       "   'pe_and_dv.xlsx',\n",
       "   'profit_forecast.xlsx']),\n",
       " ('./backups/2023-10-06',\n",
       "  [],\n",
       "  ['avepettm_backup.xlsx',\n",
       "   'nets_end.xlsx',\n",
       "   'pe_and_dv.xlsx',\n",
       "   'profit_forecast.xlsx'])]"
      ]
     },
     "execution_count": 3,
     "metadata": {},
     "output_type": "execute_result"
    }
   ],
   "source": [
    "import os\n",
    "list(os.walk('./backups/')) # [0][1][-1]"
   ]
  },
  {
   "cell_type": "code",
   "execution_count": null,
   "metadata": {},
   "outputs": [],
   "source": []
  }
 ],
 "metadata": {
  "kernelspec": {
   "display_name": "firefox202304geckodriver",
   "language": "python",
   "name": "python3"
  },
  "language_info": {
   "codemirror_mode": {
    "name": "ipython",
    "version": 3
   },
   "file_extension": ".py",
   "mimetype": "text/x-python",
   "name": "python",
   "nbconvert_exporter": "python",
   "pygments_lexer": "ipython3",
   "version": "3.10.14"
  },
  "orig_nbformat": 4
 },
 "nbformat": 4,
 "nbformat_minor": 2
}
