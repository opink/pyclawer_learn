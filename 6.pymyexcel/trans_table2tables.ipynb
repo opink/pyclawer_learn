{
 "cells": [
  {
   "cell_type": "markdown",
   "metadata": {},
   "source": [
    "# 1.正确的实现\n",
    ">需求：将原始表中的9个独立的sheets（sheets的内容有各个医疗机构列），拆分为按各个医疗机构每个单独一个表（表里有9个sheets）"
   ]
  },
  {
   "cell_type": "code",
   "execution_count": 1,
   "metadata": {},
   "outputs": [
    {
     "name": "stdout",
     "output_type": "stream",
     "text": [
      "['埠柳中心卫生院', '斥山街道卫生院', '大疃镇卫生院', '东山街道中心卫生院', '港西镇卫生院', '虎山镇卫生院', '黄山卫生院', '靖海卫生院', '城西街道卫生院', '崂山街道卫生院', '俚岛中心卫生院', '龙须岛卫生院', '马道卫生院', '宁街道卫生院', '人和中心卫生院', '成山中心卫生院', '上庄中心卫生院', '滕家中心卫生院', '王连街道卫生院', '夏庄镇卫生院', '寻山街道卫生院', '荫子镇卫生院', '崖西中心卫生院', '东城区社区卫生服务中心', '西城区社区卫生服务中心', '石岛社区卫生服务中心']\n"
     ]
    }
   ],
   "source": [
    "# Bing\n",
    "import shutil\n",
    "import pandas as pd\n",
    "\n",
    "# 读取原始Excel文件\n",
    "original_file = '修改1-2023年半年考核各基层医疗机构存在问题 - 副本.xlsx'\n",
    "# 调整好表头格式的空表.xlsx作为底模板\n",
    "kongmoban = '空表.xlsx'\n",
    "xls = pd.ExcelFile(original_file)\n",
    "\n",
    "# 获取所有工作表的名称\n",
    "sheet_names = xls.sheet_names\n",
    "\n",
    "# 从ExcelFile对象里parse提取机构名称列表\n",
    "danwei = xls.parse(sheet_name=sheet_names[0], usecols=[0])['机构名称'].to_list()\n",
    "print(danwei)\n",
    "\n",
    "# 根据机构名称生成需要的ExcelWriter对象列表\n",
    "excel_writers = [pd.ExcelWriter(f'./result/{i}.xlsx') for i in danwei]\n",
    "# 将底模板表头拷贝到上述所有对象中\n",
    "fuxiebiaotou = [shutil.copy(kongmoban, f'./result/{i}.xlsx') for i in danwei]\n",
    "# 空出对应的表头skip行数\n",
    "skip_rows = [1, 4, 4, 4, 4, 3, 3, 4, 4]\n",
    "\n",
    "for sheet_name, skipr in zip(sheet_names, skip_rows):\n",
    "    df = pd.read_excel(xls, sheet_name=sheet_name, skiprows=skipr, header=None)\n",
    "\n",
    "    # 创建一个字典，用于存储分割后的数据框\n",
    "    split_data = {}\n",
    "\n",
    "    # 根据机构列（第一列）的值将数据分割成多个数据框\n",
    "    for unit in df[0].unique():\n",
    "        split_data[unit] = df[df[0] == unit]\n",
    "\n",
    "    # 将分割后的数据框写入前面准备好的带表头的对应表中\n",
    "    for i, writer in zip(danwei,fuxiebiaotou):\n",
    "        # 避免索引越界错误，i不在split_data里，所以使用try\n",
    "        try:\n",
    "            # 由于默认engine是xlrd不支持append写入，因此使用openpyxl，...mode='a'...参数\n",
    "            with pd.ExcelWriter(writer, engine='openpyxl',if_sheet_exists='overlay',mode='a') as w:\n",
    "                split_data[i].to_excel(w, sheet_name=sheet_name, index=False, startrow=skipr, header=None)\n",
    "            # 保存分割后的工作簿\n",
    "                w.save()\n",
    "        except:\n",
    "            continue\n"
   ]
  },
  {
   "cell_type": "markdown",
   "metadata": {},
   "source": [
    "# 2.没有表头的错误实现"
   ]
  },
  {
   "cell_type": "code",
   "execution_count": null,
   "metadata": {},
   "outputs": [
    {
     "name": "stdout",
     "output_type": "stream",
     "text": [
      "['埠柳中心卫生院', '斥山街道卫生院', '大疃镇卫生院', '东山街道中心卫生院', '港西镇卫生院', '虎山镇卫生院', '黄山卫生院', '靖海卫生院', '城西街道卫生院', '崂山街道卫生院', '俚岛中心卫生院', '龙须岛卫生院', '马道卫生院', '宁街道卫生院', '人和中心卫生院', '成山中心卫生院', '上庄中心卫生院', '滕家中心卫生院', '王连街道卫生院', '夏庄镇卫生院', '寻山街道卫生院', '荫子镇卫生院', '崖西中心卫生院', '东城区社区卫生服务中心', '西城区社区卫生服务中心', '石岛社区卫生服务中心']\n"
     ]
    }
   ],
   "source": [
    "import pandas as pd\n",
    "\n",
    "# 读取原始Excel文件\n",
    "original_file = '修改1-2023年半年考核各基层医疗机构存在问题 - 副本.xlsx'\n",
    "kongmoban = '空表.xlsx'\n",
    "xls = pd.ExcelFile(original_file)\n",
    "\n",
    "# 获取所有工作表的名称\n",
    "sheet_names = xls.sheet_names\n",
    "\n",
    "# 创建一个新的Excel Writer对象\n",
    "danwei = xls.parse(sheet_name=sheet_names[0], usecols=[0])['机构名称'].to_list()\n",
    "print(danwei)\n",
    "\n",
    "# 创建ExcelWriter对象列表\n",
    "excel_writers = [pd.ExcelWriter(f'./result/{i}.xlsx') for i in danwei]\n",
    "fuxiebiaotou = [shutil.copy(kongmoban, f'./result/{i}.xlsx') for i in danwei]\n",
    "skip_rows = [1, 4, 4, 4, 4, 3, 3, 4, 4]\n",
    "\n",
    "for sheet_name, skipr in zip(sheet_names, skip_rows):\n",
    "    df = pd.read_excel(xls, sheet_name=sheet_name, skiprows=skipr, header=None)\n",
    "\n",
    "    # 创建一个字典，用于存储分割后的数据框\n",
    "    split_data = {}\n",
    "\n",
    "    # 根据机构列的值将数据分割成多个数据框\n",
    "    for unit in df[0].unique():\n",
    "        split_data[unit] = df[df[0] == unit]\n",
    "\n",
    "    # 创建一个新的Excel工作簿并将分割后的数据框写入其中\n",
    "    for i, writer in zip(danwei, excel_writers):\n",
    "        try:\n",
    "            split_data[i].to_excel(writer, sheet_name=sheet_name, index=False, startrow=skipr, header=None)\n",
    "            # 保存分割后的工作簿\n",
    "            writer.save()\n",
    "        except:\n",
    "            continue\n",
    "\n",
    "# 关闭所有ExcelWriter对象\n",
    "for writer in excel_writers:\n",
    "    writer.close()\n"
   ]
  }
 ],
 "metadata": {
  "kernelspec": {
   "display_name": "python3.9",
   "language": "python",
   "name": "python3"
  },
  "language_info": {
   "codemirror_mode": {
    "name": "ipython",
    "version": 3
   },
   "file_extension": ".py",
   "mimetype": "text/x-python",
   "name": "python",
   "nbconvert_exporter": "python",
   "pygments_lexer": "ipython3",
   "version": "3.9.17"
  },
  "orig_nbformat": 4
 },
 "nbformat": 4,
 "nbformat_minor": 2
}
