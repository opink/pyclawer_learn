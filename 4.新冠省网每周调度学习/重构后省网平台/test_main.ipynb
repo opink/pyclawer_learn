{
 "cells": [
  {
   "cell_type": "code",
   "execution_count": 1,
   "metadata": {},
   "outputs": [
    {
     "name": "stdout",
     "output_type": "stream",
     "text": [
      "name = 7-1-1, encoding = GB2312, status_code=200\n",
      "按合并登记归并后表格 ---  \n",
      "           1   2   3   4   5   6   7   8   9   10  11\n",
      "zhenjie                                            \n",
      "上庄镇       0   0   0   0   0   0   0   0   0   0   0\n",
      "东山街道      0   0   0   0   0  10   0  10   0   0  10\n",
      "人和镇       0   0   0   0   0   0   0   0   0   0   0\n",
      "俚岛镇       0   0   0   0   0   0   0   0   0   0   0\n",
      "城西街道      0   0   0   0   0   2   0   2   0   0   2\n",
      "埠柳镇       0   0   0   0   0   0   0   0   0   0   0\n",
      "夏庄镇       0   0   0   0   0   0   0   0   0   0   0\n",
      "大疃镇       0   0   0   0   0   0   0   0   0   0   0\n",
      "宁津街道      0   0   0   0   0   1   0   1   0   0   1\n",
      "寻山街道      0   0   0   0   0   0   0   0   0   0   0\n",
      "崂山街道      0   0   0   0   0   0   0   0   0   0   0\n",
      "崖头街道      0   0   0   0   0   0   0   0   0   0   0\n",
      "崖西镇       0   0   0   0   0   0   0   0   0   0   0\n",
      "成山镇       0   0   0   0   0   6   0   6   0   0   6\n",
      "斥山街道      0   0   0   0   0   0   0   0   0   0   0\n",
      "桃园街道      0   0   0   0   0   2   0   2   0   0   2\n",
      "港湾街道      0   0   0   0   0   4   0   4   0   0   4\n",
      "港西镇       0   0   0   0   0   0   0   0   0   0   0\n",
      "滕家镇       0   0   0   0   0   4   0   4   0   0   4\n",
      "王连街道      0   0   0   0   0   0   0   0   0   0   0\n",
      "荫子镇       0   0   0   0   0   0   0   0   0   0   0\n",
      "虎山镇       0   0   0   0   0   0   0   0   0   0   0\n",
      "下载完成！ 保存地址 ./dfiles/2023-02-12/1558/7-1-1.csv\n",
      "name = 8-1-1, encoding = GB2312, status_code=200\n",
      "下载完成！ 保存地址 ./dfiles/2023-02-12/1558/8-1-1.csv\n"
     ]
    }
   ],
   "source": [
    "from main import main\n",
    "\n",
    "# main(dd='Today')\n",
    "main(dd='Yesterday')"
   ]
  },
  {
   "cell_type": "code",
   "execution_count": 2,
   "metadata": {},
   "outputs": [
    {
     "name": "stdout",
     "output_type": "stream",
     "text": [
      "dfiles\\2023-01-01\\1222\n"
     ]
    }
   ],
   "source": [
    "from pathlib import Path\n",
    "\n",
    "\n",
    "def open_path_file(file_name, time_h):\n",
    "    \"\"\"根据日期字符串和时间字符串创建文件夹\"\"\"\n",
    "    P = Path('./dfiles/'+ file_name + '/' + time_h)\n",
    "    print(P)\n",
    "    P.mkdir(parents=True, exist_ok=True)\n",
    "\n",
    "open_path_file('2023-01-01','1222')"
   ]
  },
  {
   "cell_type": "code",
   "execution_count": 37,
   "metadata": {},
   "outputs": [
    {
     "name": "stdout",
     "output_type": "stream",
     "text": [
      "[60, 65, 70]\n",
      "sss\n"
     ]
    }
   ],
   "source": [
    "from dataclasses import dataclass\n",
    "\n",
    "pdict = {'cmodid': '1010011167', 'age': [60, 65, 70]}\n",
    "\n",
    "@dataclass\n",
    "class Testa():\n",
    "    cmodid:str \n",
    "    age:str \n",
    "    dd:str \n",
    "\n",
    "    def __post_init__(self):\n",
    "        print(self.age)\n",
    "        print(self.dd)\n",
    "\n",
    "testit = Testa(**pdict , dd='sss')"
   ]
  },
  {
   "cell_type": "code",
   "execution_count": null,
   "metadata": {},
   "outputs": [],
   "source": []
  }
 ],
 "metadata": {
  "kernelspec": {
   "display_name": "base",
   "language": "python",
   "name": "python3"
  },
  "language_info": {
   "codemirror_mode": {
    "name": "ipython",
    "version": 3
   },
   "file_extension": ".py",
   "mimetype": "text/x-python",
   "name": "python",
   "nbconvert_exporter": "python",
   "pygments_lexer": "ipython3",
   "version": "3.8.5"
  },
  "orig_nbformat": 4,
  "vscode": {
   "interpreter": {
    "hash": "e4cce46d6be9934fbd27f9ca0432556941ea5bdf741d4f4d64c6cd7f8dfa8fba"
   }
  }
 },
 "nbformat": 4,
 "nbformat_minor": 2
}
