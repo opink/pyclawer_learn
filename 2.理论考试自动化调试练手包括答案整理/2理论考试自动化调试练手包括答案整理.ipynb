{
    "cells": [
        {
            "cell_type": "code",
            "execution_count": 25,
            "source": [
                "from selenium import webdriver\r\n",
                "import requests\r\n",
                "from lxml import etree\r\n",
                "import time\r\n",
                "import pandas as pd\r\n"
            ],
            "outputs": [],
            "metadata": {}
        },
        {
            "cell_type": "code",
            "execution_count": 27,
            "source": [
                "denglu_link = 'http://zzbrcxf.gov.cn/app/index.php?i=1&c=entry&do=pc_login&m=online_testck163'\r\n",
                "headers = {\"User-Agent\": \"Mozilla/5.0 (Windows NT 10.0; Win64; x64) AppleWebKit/537.36 (KHTML, like Gecko) Chrome/96.0.4664.110 Safari/537.36 Edg/96.0.1054.62\"}\r\n",
                "cruser = webdriver.Edge()\r\n",
                "cruser.get(denglu_link)\r\n",
                "name = cruser.find_element_by_id('username')\r\n",
                "name.clear()\r\n",
                "name.send_keys('13061196959')\r\n",
                "password = cruser.find_element_by_id('password')\r\n",
                "password.clear()\r\n",
                "password.send_keys('vivaop1nk')\r\n",
                "dianji = cruser.find_element_by_id(\"bt-login\")\r\n",
                "dianji.click()\r\n",
                "time.sleep(2)\r\n",
                "dianji = cruser.find_element_by_xpath('/html/body/div/div[3]/div[2]/a[2]/div')\r\n",
                "dianji.click()\r\n",
                "time.sleep(2)\r\n",
                "dianji = cruser.find_element_by_xpath('//*[@id=\"content\"]/div[2]/ul/li[3]/div[2]/div[2]/div/a/img')\r\n",
                "dianji.click()\r\n",
                "\r\n",
                "\"\"\"\r\n",
                "TODO：  \r\n",
                "        selenium是否可以get.page?\r\n",
                "        \r\n",
                "        '//h1[@class=\"tit\"]/text()'  得到一个列表，题干Tit\r\n",
                "        '//input[@name=\"all_list_id_str\"]/@value'  得到一个字符串，80题的五位编码Id\r\n",
                "        字典 = dict(zip(Id,Tit))\r\n",
                "        import re\r\n",
                "        for id,tit in 字典.items:\r\n",
                "            tiganwenzi = re.split(r'[，（）、。\\s]',tit)\r\n",
                "            crop = []\r\n",
                "            for str in tiganwenzi:\r\n",
                "                if len(word) > 6:\r\n",
                "                    crop.append(word)\r\n",
                "                else:\r\n",
                "                    pass\r\n",
                "            getneedstr = random.shuffle(crop)\r\n",
                "            getneedstr去答案中对比（答案是否要整理成表格形式？）\r\n",
                "\"\"\"\r\n"
            ],
            "outputs": [],
            "metadata": {}
        },
        {
            "cell_type": "code",
            "execution_count": 29,
            "source": [
                "len([52831,52840,52843,52851,52853,52856,52861,52862,52863,52865,52871,52877,52879,52882,52891,52893,52896,52900,52903,52904,52906,52907,52912,52921,52923,52945,52946,52947,52949,52954,52956,52957,52958,52964,52965,52968,52969,52979,52980,52982,52983,52997,52821,52824,52826,53008,53010,53016,53021,53024,53027,53029,53032,53034,53038,53044,53045,53046,53050,53066,53071,53076,53083,53084,53089,53104,53114,53120,53121,53131,53142,53146,53147,53148,53150,53157,53163,53164,53173,53179])"
            ],
            "outputs": [
                {
                    "output_type": "execute_result",
                    "data": {
                        "text/plain": [
                            "80"
                        ]
                    },
                    "metadata": {},
                    "execution_count": 29
                }
            ],
            "metadata": {}
        },
        {
            "cell_type": "code",
            "execution_count": 71,
            "source": [
                "# word题库转xlsx\r\n",
                "\r\n",
                "# from docx import Document\r\n",
                "# import re\r\n",
                "# import pandas as pd\r\n",
                "\r\n",
                "# tiku = Document('2021年第四季度干部理论考试题库.docx')\r\n",
                "# TODO：word有文本格式上的坑，比如数字序号可能是自动生成的那种，正则用字符串就匹配不到，我是手动改的；得想其他的办法。这个库数据少我就不找了（\r\n",
                "# titles = []\r\n",
                "# daans = []\r\n",
                "# for i in range(len(tiku.paragraphs)):\r\n",
                "#     line = tiku.paragraphs[i].text\r\n",
                "#     if re.match('\\d+\\..',line):\r\n",
                "#         title = line.split('.')[-1]\r\n",
                "#         titles.append(title)\r\n",
                "#         daan = tiku.paragraphs[i-1].text.replace(\":\",\"|\").replace(\"：\",\"|\").split(\"|\")[-1].strip()\r\n",
                "#         daans.append(daan)\r\n",
                "\r\n",
                "# biaogeshuju = pd.DataFrame({'题目':titles,'答案':daans})\r\n",
                "# biaogeshuju.to_excel('biaoge.xlsx',index=False)\r\n",
                "\r\n",
                "# 最后手工整理一下，类别、题目、答案"
            ],
            "outputs": [],
            "metadata": {}
        },
        {
            "cell_type": "code",
            "execution_count": 35,
            "source": [
                "import re\r\n",
                "import random\r\n",
                "import pandas as pd\r\n",
                "\r\n",
                "test_str = '党以永远在路上的清醒和坚定，坚持严的主基调，突出抓住“关键少数”，落实（   ），强化监督执纪问责，把全面从严治党贯穿于党的建设各方面。'\r\n",
                "test_str_split = re.split(r'[，（）、。\\s]',test_str)\r\n",
                "crop = []\r\n",
                "for word in test_str_split:\r\n",
                "    if len(word) > 6:\r\n",
                "        crop.append(word)\r\n",
                "random.shuffle(crop)\r\n",
                "getneedword = crop[0:3]\r\n",
                "getneedword\r\n",
                "\r\n",
                "daanku = pd.read_excel('答案.xlsx')\r\n",
                "daanku[daanku['题目'].str.contains('|'.join(getneedword))]"
            ],
            "outputs": [
                {
                    "output_type": "execute_result",
                    "data": {
                        "text/plain": [
                            "      类别                                                 题目  答案\n",
                            "128  单选题  党以永远在路上的清醒和坚定，坚持严的主基调，突出抓住“关键少数”，落实（   ），强化监督执...   A\n",
                            "313  判断题  党以永远在路上的清醒和坚定，坚持稳妥的主基调，落实主体责任和监督责任，强化监督执纪问责，把全...  错误"
                        ],
                        "text/html": [
                            "<div>\n",
                            "<style scoped>\n",
                            "    .dataframe tbody tr th:only-of-type {\n",
                            "        vertical-align: middle;\n",
                            "    }\n",
                            "\n",
                            "    .dataframe tbody tr th {\n",
                            "        vertical-align: top;\n",
                            "    }\n",
                            "\n",
                            "    .dataframe thead th {\n",
                            "        text-align: right;\n",
                            "    }\n",
                            "</style>\n",
                            "<table border=\"1\" class=\"dataframe\">\n",
                            "  <thead>\n",
                            "    <tr style=\"text-align: right;\">\n",
                            "      <th></th>\n",
                            "      <th>类别</th>\n",
                            "      <th>题目</th>\n",
                            "      <th>答案</th>\n",
                            "    </tr>\n",
                            "  </thead>\n",
                            "  <tbody>\n",
                            "    <tr>\n",
                            "      <th>128</th>\n",
                            "      <td>单选题</td>\n",
                            "      <td>党以永远在路上的清醒和坚定，坚持严的主基调，突出抓住“关键少数”，落实（   ），强化监督执...</td>\n",
                            "      <td>A</td>\n",
                            "    </tr>\n",
                            "    <tr>\n",
                            "      <th>313</th>\n",
                            "      <td>判断题</td>\n",
                            "      <td>党以永远在路上的清醒和坚定，坚持稳妥的主基调，落实主体责任和监督责任，强化监督执纪问责，把全...</td>\n",
                            "      <td>错误</td>\n",
                            "    </tr>\n",
                            "  </tbody>\n",
                            "</table>\n",
                            "</div>"
                        ]
                    },
                    "metadata": {},
                    "execution_count": 35
                }
            ],
            "metadata": {}
        },
        {
            "cell_type": "code",
            "execution_count": null,
            "source": [],
            "outputs": [],
            "metadata": {}
        }
    ],
    "metadata": {
        "orig_nbformat": 4,
        "language_info": {
            "name": "python",
            "version": "3.8.5",
            "mimetype": "text/x-python",
            "codemirror_mode": {
                "name": "ipython",
                "version": 3
            },
            "pygments_lexer": "ipython3",
            "nbconvert_exporter": "python",
            "file_extension": ".py"
        },
        "kernelspec": {
            "name": "python3",
            "display_name": "Python 3.8.5 64-bit (conda)"
        },
        "interpreter": {
            "hash": "97ae724bfa85b9b34df7982b8bb8c7216f435b92902d749e4263f71162bea840"
        }
    },
    "nbformat": 4,
    "nbformat_minor": 2
}