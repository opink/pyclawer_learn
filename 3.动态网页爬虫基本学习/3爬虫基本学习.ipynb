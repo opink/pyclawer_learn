{
 "cells": [
  {
   "cell_type": "markdown",
   "metadata": {},
   "source": [
    "## 爬虫基础\n",
    "\n",
    "1. 前端：html（骨架标签）、 css（美化）、 js（加密、校验）\n",
    "\n",
    "2. 后端：python、 php、 java、 go\n",
    "\n",
    "3. JS逆向（node.js）\n",
    "\n",
    "4. 浏览器自动化调试Selenium\n",
    "\n",
    "\n",
    "5. Tips : VScode 替换选中字符加上引号\n",
    "    1. ctrl + H\n",
    "    2. 选择 .* 正则\n",
    "    3. (.*?):(.*)  to  '$1':'$2'"
   ]
  },
  {
   "cell_type": "markdown",
   "metadata": {},
   "source": [
    "### 1. 静态网页 通过-内容可看到\n",
    " 在源代码中直接可以搜索的到页面内的链接关键字\n",
    "   1. requests库获取网页对象，`.text`文本属性、`.contents`二进制属性、`.json()`把json转换成字典\n",
    "      > python中用print打印text可观察出，双引号是json格式、单引号是字典格式；\n",
    "      > 也可以用pandas read_json,to_excel 直接转化成excel文件\n",
    "   2. 爬虫校验： # 一定是本地校验\n",
    "      1. 地址  协议： ip网址 / 路径 ？参数（+猫+路由）\n",
    "      2. XHR断点调试法：我们要使用路径，在源代码的右边找到XHR/提取断点，+一个路径进去，然后刷新页面，在作用域中调试的内容的输出，单步调试直到发现带有该路径的信息出现。\n",
    "      3. requestHeaders：Headers校验的头内容\n",
    "      4. options：写明该路径下接口真正的请求方式和参数内容"
   ]
  },
  {
   "cell_type": "markdown",
   "metadata": {},
   "source": [
    "### 2. 动态网页（AJAX渲染） 通过-网络（抓包工具抓取）\n",
    "刷新观察加载内容的速度差距 or 在源代码中直接搜索不到页面内的链接关键字，提示是使用XHR加载\n",
    "\n",
    "> 数据一般通过Json文件传递，通过预览查看是否是我们想要的信息\n",
    "\n"
   ]
  },
  {
   "cell_type": "markdown",
   "metadata": {},
   "source": [
    "#### 2.1 post表单中sign签字加密\n",
    "批量采集需要控制翻页，翻页就是在post的data参数中（有可能配合着请求头的u-sign加密翻页使用）\n",
    "1. 网络中抓包，得到负载的表单，观察有加密数据\n",
    "   1. 载荷数据需要post JSON数据\n",
    "   2. 表单数据post 字典数据\n",
    "2. CTRL+SHIFT+F 全局查找 sign或（js赋值方式 sign= ; sign:），依次打上断点\n",
    "3. 刷新，输入你好。调试观察变量。（调试完成后记得右键清除断点）\n",
    "\n",
    "> ~~在线加密解密网站，瞎猫碰死耗子~~\n",
    "\n",
    "\n",
    "```python\n",
    "import time\n",
    "import random\n",
    "from hashlib import md5\n",
    "timenow = str(int(time.time()*100))\n",
    "sign = timenow+str(random(0,9)) + 'asknjviwnef13nakv/*65f4'\n",
    "# sign的格式是字符串，需要编码成二进制再放进md5函数，然后再转为16进制输出\n",
    "md5(sign.encode()).hexdigets()\n",
    "```"
   ]
  },
  {
   "cell_type": "markdown",
   "metadata": {},
   "source": [
    "#### 2.2 动态地进行断点调试+JS代码补环境\n",
    "\n",
    "1. 动态网页 全局查找 返回太多无法查证时。\n",
    "    > 但是一定会发送信息，调用网址路径的接口\n",
    "\n",
    "    1. 复制**ip网址和路径**，在源代码右侧中添加XHR/提取断点\n",
    "    2. 然后刷新，在作用域下方找到**调用堆栈**:从上到下依次调用了什么函数或变量\n",
    "    3. 定位到参数加密位置。 要有耐心\n",
    "\n",
    "2. 扣JS代码\n",
    "   1. 首先观察函数做了什么，**先看返回值**怎么组成；\n",
    "   2. 从Python这个胶水语言编译JS代码执行\n",
    "        1. 浏览器使用JavaScript\n",
    "        2. python使用Node.js # 需下载安装 https://blog.csdn.net/maotaolaodie/article/details/126596042\n",
    "        3. 新建.js文件，扣代码，补环境 // console.log(j()) # 注释，print\n",
    "            ```python\n",
    "            import execjs\n",
    "            with open('xin.js','r')as f:\n",
    "                js_code = f.read()\n",
    "            js_ex = execjs.compile(js_code)\n",
    "            nonce = js_ex.call('j) \n",
    "            print(nonce)\n",
    "            ```"
   ]
  },
  {
   "cell_type": "markdown",
   "metadata": {},
   "source": [
    "#### 2.3 服务端返回加密的响应数据如何本地解析\n",
    "案例：百度指数\n",
    "1. **页面太多而且信息加密了**，**清除后重新抓包**选择一个按钮进行加载。\n",
    "2. 客户端一定会从服务端返回的响应数据中取值，可以**全局搜索key值** \n",
    "   > 例如Json文件的选取 d['data']['indexnorm'][1]['users']\n",
    "3. 两条路\n",
    "   1. 扣js #$$ 在js中代表 要么True执行前面的要么执行后面的；\n",
    "   2. 看懂函数，手写python函数"
   ]
  },
  {
   "cell_type": "markdown",
   "metadata": {},
   "source": []
  }
 ],
 "metadata": {
  "interpreter": {
   "hash": "97ae724bfa85b9b34df7982b8bb8c7216f435b92902d749e4263f71162bea840"
  },
  "kernelspec": {
   "display_name": "Python 3.8.3 ('base')",
   "language": "python",
   "name": "python3"
  },
  "language_info": {
   "codemirror_mode": {
    "name": "ipython",
    "version": 3
   },
   "file_extension": ".py",
   "mimetype": "text/x-python",
   "name": "python",
   "nbconvert_exporter": "python",
   "pygments_lexer": "ipython3",
   "version": "3.8.3"
  },
  "orig_nbformat": 4
 },
 "nbformat": 4,
 "nbformat_minor": 2
}
