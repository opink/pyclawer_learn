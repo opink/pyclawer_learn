{
    "cells": [
        {
            "cell_type": "code",
            "execution_count": null,
            "source": [
                "import requests\r\n",
                "from lxml import etree\r\n",
                "import pandas as pd\r\n",
                "\r\n",
                "\r\n",
                "sitepage = 'https://www.jkl.com.cn/shop.aspx'\r\n",
                "ua_detector = {'user-agent':\r\n",
                "                'Mozilla/5.0 (Windows NT 10.0; Win64; x64; rv:95.0) Gecko/20100101 Firefox/95.0'}"
            ],
            "outputs": [],
            "metadata": {}
        },
        {
            "cell_type": "code",
            "execution_count": null,
            "source": [
                "# 1.得到每个城区网址\r\n",
                "响应数据 = requests.get(url=sitepage,headers=ua_detector)\r\n",
                "print(响应数据)"
            ],
            "outputs": [],
            "metadata": {}
        },
        {
            "cell_type": "code",
            "execution_count": null,
            "source": [
                "解析 = etree.HTML(响应数据.text)\r\n",
                "城区 = 解析.xpath('//div[@class=\"infoLis\"]//@href')\r\n",
                "for 区 in 城区:\r\n",
                "    网址2 = 'https://www.jkl.com.cn/' + 区\r\n",
                "    响应数据1 = requests.get(url=网址2,headers=ua_detector).text\r\n",
                "    解析1 = etree.HTML(响应数据1)\r\n",
                "    店铺名称 = 解析1.xpath('//span[@class=\"con01\"]/text()')\r\n",
                "    详细地址 = 解析1.xpath('//span[@class=\"con02\"]/text()')\r\n",
                "    电话号码 = 解析1.xpath('//span[@class=\"con03\"]/text()')\r\n",
                "    营业时间 = 解析1.xpath('//span[@class=\"con04\"]/text()')\r\n",
                "    数据 = pd.DataFrame({'店名':店铺名称,'地址':详细地址,'电话':电话号码,'营业时间':营业时间})\r\n",
                "    数据.to_csv(r'C:\\Users\\opink\\Desktop\\店铺信息1.csv',index=False,header=0,mode='a',encoding='ANSI')\r\n",
                "    # mode='a' 代表在末尾追加模式写入；ANSI编码适合中文\r\n",
                "    # 朝阳区有3个子页面\r\n",
                "    if 网址2 == 'https://www.jkl.com.cn/shopLis.aspx?TypeId=10045':\r\n",
                "        for 页 in [2,3]:\r\n",
                "            响应数据1 = requests.get(url='https://www.jkl.com.cn/shopLis.aspx?'+f'current={页}'+'&TypeId=10045',headers=ua_detector).text\r\n",
                "            解析1 = etree.HTML(响应数据1)\r\n",
                "            店铺名称 = 解析1.xpath('//span[@class=\"con01\"]/text()')\r\n",
                "            详细地址 = 解析1.xpath('//span[@class=\"con02\"]/text()')\r\n",
                "            电话号码 = 解析1.xpath('//span[@class=\"con03\"]/text()')\r\n",
                "            营业时间 = 解析1.xpath('//span[@class=\"con04\"]/text()')\r\n",
                "            数据 = pd.DataFrame({'店名':店铺名称,'地址':详细地址,'电话':电话号码,'营业时间':营业时间})\r\n",
                "            数据.to_csv(r'C:\\Users\\opink\\Desktop\\店铺信息1.csv',index=False,header=0,mode='a',encoding='ANSI')\r\n",
                "\r\n"
            ],
            "outputs": [],
            "metadata": {}
        },
        {
            "cell_type": "code",
            "execution_count": null,
            "source": [],
            "outputs": [],
            "metadata": {}
        }
    ],
    "metadata": {
        "orig_nbformat": 4,
        "language_info": {
            "name": "python",
            "version": "3.8.3",
            "mimetype": "text/x-python",
            "codemirror_mode": {
                "name": "ipython",
                "version": 3
            },
            "pygments_lexer": "ipython3",
            "nbconvert_exporter": "python",
            "file_extension": ".py"
        },
        "kernelspec": {
            "name": "python3",
            "display_name": "Python 3.8.3 64-bit (conda)"
        },
        "interpreter": {
            "hash": "97ae724bfa85b9b34df7982b8bb8c7216f435b92902d749e4263f71162bea840"
        }
    },
    "nbformat": 4,
    "nbformat_minor": 2
}